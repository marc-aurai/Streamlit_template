{
 "cells": [
  {
   "cell_type": "code",
   "execution_count": 1,
   "metadata": {},
   "outputs": [],
   "source": [
    "import requests\n",
    "from bs4 import BeautifulSoup"
   ]
  },
  {
   "cell_type": "code",
   "execution_count": 5,
   "metadata": {},
   "outputs": [],
   "source": [
    "url = \"https://www.espn.nl/voetbal/verslag?wedstrijdId=637425\"\n",
    "page = requests.get(url)"
   ]
  },
  {
   "cell_type": "code",
   "execution_count": 18,
   "metadata": {},
   "outputs": [],
   "source": [
    "article = BeautifulSoup(page.content, 'html.parser')"
   ]
  },
  {
   "cell_type": "code",
   "execution_count": 15,
   "metadata": {},
   "outputs": [],
   "source": [
    "content = article.find('div', id= 'article-feed')"
   ]
  },
  {
   "cell_type": "code",
   "execution_count": 17,
   "metadata": {},
   "outputs": [
    {
     "name": "stdout",
     "output_type": "stream",
     "text": [
      "\n",
      "Willumsson schenkt Go Ahead in extremis drie belangrijke puntenplaySamenvatting FC Utrecht - Go Ahead Eagles (1:57)De samenvatting van de wedstrijd in de Eredivisie tussen FC Utrecht en Go Ahead Eagles. (1:57)FacebookTwitterFacebook MessengerEmail18 mrt 2023FacebookTwitterFacebook MessengerPinterestEmailVoor Go Ahead Eagles zijn de degradatiezorgen flink afgenomen na een belangrijke zege op FC Utrecht. Willum Thór Willumsson werd het goudhaantje met de winnende treffer in 94ste minuut. Hij bepaalde de eindstand op 1-2. De formatie van Rene Hake voelde zich in de eerste helft nog flink benadeeld, omdat er geen penalty werd gegeven na een handsbal van Utrecht-verdediger Remon Hendriks. FC Utrecht en Go Ahead Eagles stonden voor de aftrap uitgebreid stil bij de slachtoffers van de tramaanslag vier jaar geleden. Er werd een minuut stilte gehouden en beide supportersgroepen betuigden steun door middel van spandoeken.Douvikas alleen aan kop\n",
      "De wedstrijd in de Galgenwaard brandde pas echt los in de staart van de eerste helft. Op aangeven van Boussaid schoof Douvakis zijn dertiende doelpunt van het seizoen binnen, waarmee hij nu alleen topscorer is van de Eredivisie.Go Ahead Eagles dacht meteen wat terug te doen, maar de Deventer club werd een penalty onthouden. Hendriks gooide zich voor een inzet van Lidberg, waarbij de bal duidelijk de armen van de Utrecht-verdediger raakte. Scheidsrechter Bos werd naar het scherm geroepen, maar wilde ook na het zien van de beelden geen strafschop geven aan de gasten. Achteraf liet Bos weten dat hij geen penalty toekende omdat het de steunarm betrof van Hendriks. Toch kreeg de ploeg van Rene Hake iets van gerechtigheid. Op slag van rust maakte Edvardsen gelijk.Venijn opnieuw in de staart\n",
      "In de tweede helft toonden beide ploegen de wil om te winnen. Dat maakte het spelbeeld rommelig en de kansen gering. Toch kon er nog gejuicht worden. Zij het wel door het vak bevolkt met supporters Deventer. In extremis schoot Willumsson naar de overwinning met zijn vijfde treffer van het seizoen.Go Ahead Eagles heeft door de overwinning op Utrecht nu 29 punten. De voorsprong op nummer 16 Excelsior is negen punten. Ook moeten de Deventenaren de thuiswedstrijd tegen RKC Waalwijk nog inhalen. Voor Utrecht was het de wedstrijd op een rij waarin niet gewonnen werd.\n",
      "FacebookTwitterFacebook MessengerEmail\n",
      "\n",
      "GebruiksvoorwaardenPrivacybeleidGepersonaliseerde advertentiesEuropese Privacy RegelgevingCookiebeleidSupportManage Privacy Preferences© ESPN Enterprises, Inc. Alle rechten voorbehouden.\n",
      "\n"
     ]
    }
   ],
   "source": [
    "print(content.text)"
   ]
  },
  {
   "attachments": {},
   "cell_type": "markdown",
   "metadata": {},
   "source": [
    "# Get full player name"
   ]
  },
  {
   "cell_type": "code",
   "execution_count": 4,
   "metadata": {},
   "outputs": [],
   "source": [
    "match_stats = requests.get(f\"http://api.performfeeds.com/soccerdata/matchstats/6bxvue6su4ev1690mzy62a41t/?_rt=b&_fmt=json&fx=3qiazt6i0ois333dgtt9o6tck\").json()"
   ]
  },
  {
   "cell_type": "code",
   "execution_count": 18,
   "metadata": {},
   "outputs": [
    {
     "data": {
      "text/plain": [
       "22"
      ]
     },
     "execution_count": 18,
     "metadata": {},
     "output_type": "execute_result"
    }
   ],
   "source": [
    "len(match_stats['liveData']['lineUp'][0]['player'])"
   ]
  },
  {
   "cell_type": "code",
   "execution_count": 24,
   "metadata": {},
   "outputs": [
    {
     "name": "stdout",
     "output_type": "stream",
     "text": [
      "Gerónimo Rulli\n",
      "Owen Wijndal\n",
      "Calvin Bassey Ughelumba\n",
      "Jurriën David Norman Timber\n",
      "Devyne Fabian Jairo Rensch\n",
      "Kenneth Taylor\n",
      "Edson Omar Álvarez Velázquez\n",
      "Steven Berghuis\n",
      "Steven Charles Bergwijn\n",
      "Dušan Tadić\n",
      "Mohammed Kudus\n",
      "Brian Ebenezer Adjei Brobbey\n",
      "Youri Baas\n",
      "Francisco Fernandes da Conceição\n",
      "Kian Fitz-Jim\n",
      "Florian Grillitsch\n",
      "Jorrel Hato\n",
      "Davy Klaassen\n",
      "Lorenzo Lucca\n",
      "Remko Jurian Pasveer\n",
      "Youri Pieter Regeer\n",
      "Maarten Stekelenburg\n",
      "Jorge Eduardo Sánchez Ramos\n"
     ]
    }
   ],
   "source": [
    "for team_player_stats in match_stats['liveData']['lineUp'][1]['player']:\n",
    "    print(team_player_stats['firstName'], team_player_stats['lastName'])"
   ]
  },
  {
   "cell_type": "code",
   "execution_count": null,
   "metadata": {},
   "outputs": [],
   "source": []
  }
 ],
 "metadata": {
  "kernelspec": {
   "display_name": "Python 3",
   "language": "python",
   "name": "python3"
  },
  "language_info": {
   "codemirror_mode": {
    "name": "ipython",
    "version": 3
   },
   "file_extension": ".py",
   "mimetype": "text/x-python",
   "name": "python",
   "nbconvert_exporter": "python",
   "pygments_lexer": "ipython3",
   "version": "3.9.10"
  },
  "orig_nbformat": 4
 },
 "nbformat": 4,
 "nbformat_minor": 2
}
