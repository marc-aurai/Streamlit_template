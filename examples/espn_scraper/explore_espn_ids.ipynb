{
 "cells": [
  {
   "cell_type": "code",
   "execution_count": 2,
   "metadata": {},
   "outputs": [],
   "source": [
    "import json"
   ]
  },
  {
   "cell_type": "code",
   "execution_count": 5,
   "metadata": {},
   "outputs": [],
   "source": [
    "\n",
    "eredivisie_ids = json.load(open(\"../../espn_scraper/ESPN_ids_data/content-objects-eredivisie.json\"))"
   ]
  },
  {
   "cell_type": "code",
   "execution_count": 23,
   "metadata": {},
   "outputs": [
    {
     "data": {
      "text/plain": [
       "'https://www.espn.nl/voetbal/verslag?wedstrijdId=637424'"
      ]
     },
     "execution_count": 23,
     "metadata": {},
     "output_type": "execute_result"
    }
   ],
   "source": [
    "eredivisie_ids['contentObjects'][0]['commonProperties']['publishEnvironments']['5']['publishedFullURL']"
   ]
  },
  {
   "cell_type": "code",
   "execution_count": 20,
   "metadata": {},
   "outputs": [],
   "source": [
    "urls = []\n",
    "for publicatie in eredivisie_ids['contentObjects']:\n",
    "    urls.append(publicatie['commonProperties']['publishEnvironments']['5']['publishedFullURL'])"
   ]
  },
  {
   "cell_type": "code",
   "execution_count": 22,
   "metadata": {},
   "outputs": [
    {
     "data": {
      "text/plain": [
       "773"
      ]
     },
     "execution_count": 22,
     "metadata": {},
     "output_type": "execute_result"
    }
   ],
   "source": [
    "len(urls)"
   ]
  },
  {
   "cell_type": "code",
   "execution_count": 26,
   "metadata": {},
   "outputs": [],
   "source": [
    "import pandas as pd \n",
    "espn_df = pd.read_csv(\"../../espn_scraper/scraper_data/articles_espn_ids.csv\", sep=\";\")"
   ]
  },
  {
   "cell_type": "code",
   "execution_count": 27,
   "metadata": {},
   "outputs": [
    {
     "data": {
      "text/html": [
       "<div>\n",
       "<style scoped>\n",
       "    .dataframe tbody tr th:only-of-type {\n",
       "        vertical-align: middle;\n",
       "    }\n",
       "\n",
       "    .dataframe tbody tr th {\n",
       "        vertical-align: top;\n",
       "    }\n",
       "\n",
       "    .dataframe thead th {\n",
       "        text-align: right;\n",
       "    }\n",
       "</style>\n",
       "<table border=\"1\" class=\"dataframe\">\n",
       "  <thead>\n",
       "    <tr style=\"text-align: right;\">\n",
       "      <th></th>\n",
       "      <th>Unnamed: 0</th>\n",
       "      <th>espn_id</th>\n",
       "      <th>home_team</th>\n",
       "      <th>away_team</th>\n",
       "      <th>home_abbrev</th>\n",
       "      <th>away_abbrev</th>\n",
       "      <th>score_home</th>\n",
       "      <th>score_away</th>\n",
       "      <th>date</th>\n",
       "      <th>cup</th>\n",
       "      <th>article_title</th>\n",
       "      <th>article</th>\n",
       "    </tr>\n",
       "  </thead>\n",
       "  <tbody>\n",
       "    <tr>\n",
       "      <th>0</th>\n",
       "      <td>0</td>\n",
       "      <td>637424</td>\n",
       "      <td>FC Twente</td>\n",
       "      <td>AZ</td>\n",
       "      <td>TWE</td>\n",
       "      <td>AZ</td>\n",
       "      <td>2</td>\n",
       "      <td>1</td>\n",
       "      <td>2023-03-19Z</td>\n",
       "      <td>2022-23 Eredivisie, Regulier seizoen</td>\n",
       "      <td>AZ kan Europese glorie geen gevolg geven in En...</td>\n",
       "      <td>AZ heeft het prachtige succes in de Conference...</td>\n",
       "    </tr>\n",
       "    <tr>\n",
       "      <th>1</th>\n",
       "      <td>1</td>\n",
       "      <td>637428</td>\n",
       "      <td>Vitesse</td>\n",
       "      <td>PSV</td>\n",
       "      <td>VIT</td>\n",
       "      <td>PSV</td>\n",
       "      <td>1</td>\n",
       "      <td>1</td>\n",
       "      <td>2023-03-19Z</td>\n",
       "      <td>2022-23 Eredivisie, Regulier seizoen</td>\n",
       "      <td>PSV loopt in strijd om plek 2 averij op bij Vi...</td>\n",
       "      <td>PSV heeft dure punten verspeeld in de strijd o...</td>\n",
       "    </tr>\n",
       "    <tr>\n",
       "      <th>2</th>\n",
       "      <td>2</td>\n",
       "      <td>637420</td>\n",
       "      <td>Ajax</td>\n",
       "      <td>Feyenoord</td>\n",
       "      <td>AJA</td>\n",
       "      <td>FEY</td>\n",
       "      <td>2</td>\n",
       "      <td>3</td>\n",
       "      <td>2023-03-19Z</td>\n",
       "      <td>2022-23 Eredivisie, Regulier seizoen</td>\n",
       "      <td>Geertruida kopt Feyenoord naar eerste overwinn...</td>\n",
       "      <td>Feyenoord heeft een spectaculaire editie van D...</td>\n",
       "    </tr>\n",
       "    <tr>\n",
       "      <th>3</th>\n",
       "      <td>3</td>\n",
       "      <td>637423</td>\n",
       "      <td>FC Groningen</td>\n",
       "      <td>sc Heerenveen</td>\n",
       "      <td>GRO</td>\n",
       "      <td>HEE</td>\n",
       "      <td>0</td>\n",
       "      <td>2</td>\n",
       "      <td>2023-03-19Z</td>\n",
       "      <td>2022-23 Eredivisie, Regulier seizoen</td>\n",
       "      <td>sc Heerenveen wint onrustige Derby van het Noo...</td>\n",
       "      <td>sc Heerenveen heeft met 0-2 gewonnen van FC Gr...</td>\n",
       "    </tr>\n",
       "    <tr>\n",
       "      <th>4</th>\n",
       "      <td>4</td>\n",
       "      <td>637427</td>\n",
       "      <td>RKC Waalwijk</td>\n",
       "      <td>N.E.C.</td>\n",
       "      <td>RKC</td>\n",
       "      <td>N.E.C.</td>\n",
       "      <td>1</td>\n",
       "      <td>3</td>\n",
       "      <td>2023-03-18Z</td>\n",
       "      <td>2022-23 Eredivisie, Regulier seizoen</td>\n",
       "      <td>N.E.C. heeft play-offs in vizier na spektakels...</td>\n",
       "      <td>Na een uiterst vermakelijke wedstrijd mag N.E....</td>\n",
       "    </tr>\n",
       "  </tbody>\n",
       "</table>\n",
       "</div>"
      ],
      "text/plain": [
       "   Unnamed: 0  espn_id     home_team      away_team home_abbrev away_abbrev  \\\n",
       "0           0   637424     FC Twente             AZ         TWE          AZ   \n",
       "1           1   637428       Vitesse            PSV         VIT         PSV   \n",
       "2           2   637420          Ajax      Feyenoord         AJA         FEY   \n",
       "3           3   637423  FC Groningen  sc Heerenveen         GRO         HEE   \n",
       "4           4   637427  RKC Waalwijk         N.E.C.         RKC      N.E.C.   \n",
       "\n",
       "   score_home  score_away         date                                   cup  \\\n",
       "0           2           1  2023-03-19Z  2022-23 Eredivisie, Regulier seizoen   \n",
       "1           1           1  2023-03-19Z  2022-23 Eredivisie, Regulier seizoen   \n",
       "2           2           3  2023-03-19Z  2022-23 Eredivisie, Regulier seizoen   \n",
       "3           0           2  2023-03-19Z  2022-23 Eredivisie, Regulier seizoen   \n",
       "4           1           3  2023-03-18Z  2022-23 Eredivisie, Regulier seizoen   \n",
       "\n",
       "                                       article_title  \\\n",
       "0  AZ kan Europese glorie geen gevolg geven in En...   \n",
       "1  PSV loopt in strijd om plek 2 averij op bij Vi...   \n",
       "2  Geertruida kopt Feyenoord naar eerste overwinn...   \n",
       "3  sc Heerenveen wint onrustige Derby van het Noo...   \n",
       "4  N.E.C. heeft play-offs in vizier na spektakels...   \n",
       "\n",
       "                                             article  \n",
       "0  AZ heeft het prachtige succes in de Conference...  \n",
       "1  PSV heeft dure punten verspeeld in de strijd o...  \n",
       "2  Feyenoord heeft een spectaculaire editie van D...  \n",
       "3  sc Heerenveen heeft met 0-2 gewonnen van FC Gr...  \n",
       "4  Na een uiterst vermakelijke wedstrijd mag N.E....  "
      ]
     },
     "execution_count": 27,
     "metadata": {},
     "output_type": "execute_result"
    }
   ],
   "source": [
    "espn_df"
   ]
  },
  {
   "cell_type": "code",
   "execution_count": null,
   "metadata": {},
   "outputs": [],
   "source": []
  }
 ],
 "metadata": {
  "kernelspec": {
   "display_name": "Python 3",
   "language": "python",
   "name": "python3"
  },
  "language_info": {
   "codemirror_mode": {
    "name": "ipython",
    "version": 3
   },
   "file_extension": ".py",
   "mimetype": "text/x-python",
   "name": "python",
   "nbconvert_exporter": "python",
   "pygments_lexer": "ipython3",
   "version": "3.9.10"
  },
  "orig_nbformat": 4
 },
 "nbformat": 4,
 "nbformat_minor": 2
}
