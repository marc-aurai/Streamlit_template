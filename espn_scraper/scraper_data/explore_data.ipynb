{
 "cells": [
  {
   "cell_type": "code",
   "execution_count": 11,
   "metadata": {},
   "outputs": [],
   "source": [
    "import pandas as pd"
   ]
  },
  {
   "cell_type": "code",
   "execution_count": 26,
   "metadata": {},
   "outputs": [
    {
     "name": "stdout",
     "output_type": "stream",
     "text": [
      "['2020-21 Eredivisie, Regulier seizoen', '2021-22 Eredivisie, Regulier seizoen', '2022-23 Eredivisie, Regulier seizoen']\n"
     ]
    },
    {
     "data": {
      "text/html": [
       "<div>\n",
       "<style scoped>\n",
       "    .dataframe tbody tr th:only-of-type {\n",
       "        vertical-align: middle;\n",
       "    }\n",
       "\n",
       "    .dataframe tbody tr th {\n",
       "        vertical-align: top;\n",
       "    }\n",
       "\n",
       "    .dataframe thead th {\n",
       "        text-align: right;\n",
       "    }\n",
       "</style>\n",
       "<table border=\"1\" class=\"dataframe\">\n",
       "  <thead>\n",
       "    <tr style=\"text-align: right;\">\n",
       "      <th></th>\n",
       "      <th>Unnamed: 0.1</th>\n",
       "      <th>Unnamed: 0</th>\n",
       "      <th>espn_id</th>\n",
       "      <th>home_team</th>\n",
       "      <th>away_team</th>\n",
       "      <th>home_abbrev</th>\n",
       "      <th>away_abbrev</th>\n",
       "      <th>score_home</th>\n",
       "      <th>score_away</th>\n",
       "      <th>date</th>\n",
       "      <th>cup</th>\n",
       "      <th>article_title</th>\n",
       "      <th>article</th>\n",
       "    </tr>\n",
       "  </thead>\n",
       "  <tbody>\n",
       "    <tr>\n",
       "      <th>0</th>\n",
       "      <td>0</td>\n",
       "      <td>0</td>\n",
       "      <td>637424</td>\n",
       "      <td>FC Twente</td>\n",
       "      <td>AZ</td>\n",
       "      <td>TWE</td>\n",
       "      <td>AZ</td>\n",
       "      <td>2</td>\n",
       "      <td>1</td>\n",
       "      <td>2023-03-19Z</td>\n",
       "      <td>2022-23 Eredivisie, Regulier seizoen</td>\n",
       "      <td>AZ kan Europese glorie geen gevolg geven in En...</td>\n",
       "      <td>AZ heeft het prachtige succes in de Conference...</td>\n",
       "    </tr>\n",
       "    <tr>\n",
       "      <th>1</th>\n",
       "      <td>1</td>\n",
       "      <td>1</td>\n",
       "      <td>637428</td>\n",
       "      <td>Vitesse</td>\n",
       "      <td>PSV</td>\n",
       "      <td>VIT</td>\n",
       "      <td>PSV</td>\n",
       "      <td>1</td>\n",
       "      <td>1</td>\n",
       "      <td>2023-03-19Z</td>\n",
       "      <td>2022-23 Eredivisie, Regulier seizoen</td>\n",
       "      <td>PSV loopt in strijd om plek 2 averij op bij Vi...</td>\n",
       "      <td>PSV heeft dure punten verspeeld in de strijd o...</td>\n",
       "    </tr>\n",
       "    <tr>\n",
       "      <th>2</th>\n",
       "      <td>2</td>\n",
       "      <td>2</td>\n",
       "      <td>637420</td>\n",
       "      <td>Ajax</td>\n",
       "      <td>Feyenoord</td>\n",
       "      <td>AJA</td>\n",
       "      <td>FEY</td>\n",
       "      <td>2</td>\n",
       "      <td>3</td>\n",
       "      <td>2023-03-19Z</td>\n",
       "      <td>2022-23 Eredivisie, Regulier seizoen</td>\n",
       "      <td>Geertruida kopt Feyenoord naar eerste overwinn...</td>\n",
       "      <td>Feyenoord heeft een spectaculaire editie van D...</td>\n",
       "    </tr>\n",
       "    <tr>\n",
       "      <th>3</th>\n",
       "      <td>3</td>\n",
       "      <td>3</td>\n",
       "      <td>637423</td>\n",
       "      <td>FC Groningen</td>\n",
       "      <td>sc Heerenveen</td>\n",
       "      <td>GRO</td>\n",
       "      <td>HEE</td>\n",
       "      <td>0</td>\n",
       "      <td>2</td>\n",
       "      <td>2023-03-19Z</td>\n",
       "      <td>2022-23 Eredivisie, Regulier seizoen</td>\n",
       "      <td>sc Heerenveen wint onrustige Derby van het Noo...</td>\n",
       "      <td>sc Heerenveen heeft met 0-2 gewonnen van FC Gr...</td>\n",
       "    </tr>\n",
       "    <tr>\n",
       "      <th>4</th>\n",
       "      <td>4</td>\n",
       "      <td>4</td>\n",
       "      <td>637427</td>\n",
       "      <td>RKC Waalwijk</td>\n",
       "      <td>N.E.C.</td>\n",
       "      <td>RKC</td>\n",
       "      <td>N.E.C.</td>\n",
       "      <td>1</td>\n",
       "      <td>3</td>\n",
       "      <td>2023-03-18Z</td>\n",
       "      <td>2022-23 Eredivisie, Regulier seizoen</td>\n",
       "      <td>N.E.C. heeft play-offs in vizier na spektakels...</td>\n",
       "      <td>Na een uiterst vermakelijke wedstrijd mag N.E....</td>\n",
       "    </tr>\n",
       "    <tr>\n",
       "      <th>...</th>\n",
       "      <td>...</td>\n",
       "      <td>...</td>\n",
       "      <td>...</td>\n",
       "      <td>...</td>\n",
       "      <td>...</td>\n",
       "      <td>...</td>\n",
       "      <td>...</td>\n",
       "      <td>...</td>\n",
       "      <td>...</td>\n",
       "      <td>...</td>\n",
       "      <td>...</td>\n",
       "      <td>...</td>\n",
       "      <td>...</td>\n",
       "    </tr>\n",
       "    <tr>\n",
       "      <th>176</th>\n",
       "      <td>216</td>\n",
       "      <td>216</td>\n",
       "      <td>637200</td>\n",
       "      <td>FC Groningen</td>\n",
       "      <td>FC Volendam</td>\n",
       "      <td>GRO</td>\n",
       "      <td>VOL</td>\n",
       "      <td>2</td>\n",
       "      <td>2</td>\n",
       "      <td>2022-08-07Z</td>\n",
       "      <td>2022-23 Eredivisie, Regulier seizoen</td>\n",
       "      <td>Volendam knokt zich bij Eredivisie-rentree naa...</td>\n",
       "      <td>FC Volendam heeft de terugkeer in de Eredivisi...</td>\n",
       "    </tr>\n",
       "    <tr>\n",
       "      <th>177</th>\n",
       "      <td>217</td>\n",
       "      <td>217</td>\n",
       "      <td>637199</td>\n",
       "      <td>RKC Waalwijk</td>\n",
       "      <td>FC Utrecht</td>\n",
       "      <td>RKC</td>\n",
       "      <td>UTR</td>\n",
       "      <td>2</td>\n",
       "      <td>2</td>\n",
       "      <td>2022-08-06Z</td>\n",
       "      <td>2022-23 Eredivisie, Regulier seizoen</td>\n",
       "      <td>Succesvolle terugkeer Dost niet voldoende voor...</td>\n",
       "      <td>Het debuut van Henk Fraser als trainer van FC ...</td>\n",
       "    </tr>\n",
       "    <tr>\n",
       "      <th>178</th>\n",
       "      <td>218</td>\n",
       "      <td>218</td>\n",
       "      <td>637197</td>\n",
       "      <td>SC Cambuur Leeuwarden</td>\n",
       "      <td>Excelsior</td>\n",
       "      <td>CAM</td>\n",
       "      <td>EXC</td>\n",
       "      <td>0</td>\n",
       "      <td>2</td>\n",
       "      <td>2022-08-06Z</td>\n",
       "      <td>2022-23 Eredivisie, Regulier seizoen</td>\n",
       "      <td>Excelsior countert naar overwinning in Leeuwar...</td>\n",
       "      <td>Excelsior is het eerste Eredivisieseizoen sind...</td>\n",
       "    </tr>\n",
       "    <tr>\n",
       "      <th>179</th>\n",
       "      <td>219</td>\n",
       "      <td>219</td>\n",
       "      <td>637196</td>\n",
       "      <td>Fortuna Sittard</td>\n",
       "      <td>Ajax</td>\n",
       "      <td>FOR</td>\n",
       "      <td>AJA</td>\n",
       "      <td>2</td>\n",
       "      <td>3</td>\n",
       "      <td>2022-08-06Z</td>\n",
       "      <td>2022-23 Eredivisie, Regulier seizoen</td>\n",
       "      <td>Wissels schieten Ajax in tweede helft naar ove...</td>\n",
       "      <td>Ajax heeft de eerste competitiewedstrijd van h...</td>\n",
       "    </tr>\n",
       "    <tr>\n",
       "      <th>180</th>\n",
       "      <td>220</td>\n",
       "      <td>220</td>\n",
       "      <td>637195</td>\n",
       "      <td>sc Heerenveen</td>\n",
       "      <td>Sparta Rotterdam</td>\n",
       "      <td>HEE</td>\n",
       "      <td>SPA</td>\n",
       "      <td>0</td>\n",
       "      <td>0</td>\n",
       "      <td>2022-08-05Z</td>\n",
       "      <td>2022-23 Eredivisie, Regulier seizoen</td>\n",
       "      <td>sc Heerenveen en Sparta Rotterdam delen punten...</td>\n",
       "      <td>De eerste Eredivisie-wedstrijd van het nieuwe ...</td>\n",
       "    </tr>\n",
       "  </tbody>\n",
       "</table>\n",
       "<p>178 rows × 13 columns</p>\n",
       "</div>"
      ],
      "text/plain": [
       "     Unnamed: 0.1  Unnamed: 0  espn_id              home_team  \\\n",
       "0               0           0   637424              FC Twente   \n",
       "1               1           1   637428                Vitesse   \n",
       "2               2           2   637420                   Ajax   \n",
       "3               3           3   637423           FC Groningen   \n",
       "4               4           4   637427           RKC Waalwijk   \n",
       "..            ...         ...      ...                    ...   \n",
       "176           216         216   637200           FC Groningen   \n",
       "177           217         217   637199           RKC Waalwijk   \n",
       "178           218         218   637197  SC Cambuur Leeuwarden   \n",
       "179           219         219   637196        Fortuna Sittard   \n",
       "180           220         220   637195          sc Heerenveen   \n",
       "\n",
       "            away_team home_abbrev away_abbrev  score_home  score_away  \\\n",
       "0                  AZ         TWE          AZ           2           1   \n",
       "1                 PSV         VIT         PSV           1           1   \n",
       "2           Feyenoord         AJA         FEY           2           3   \n",
       "3       sc Heerenveen         GRO         HEE           0           2   \n",
       "4              N.E.C.         RKC      N.E.C.           1           3   \n",
       "..                ...         ...         ...         ...         ...   \n",
       "176       FC Volendam         GRO         VOL           2           2   \n",
       "177        FC Utrecht         RKC         UTR           2           2   \n",
       "178         Excelsior         CAM         EXC           0           2   \n",
       "179              Ajax         FOR         AJA           2           3   \n",
       "180  Sparta Rotterdam         HEE         SPA           0           0   \n",
       "\n",
       "            date                                   cup  \\\n",
       "0    2023-03-19Z  2022-23 Eredivisie, Regulier seizoen   \n",
       "1    2023-03-19Z  2022-23 Eredivisie, Regulier seizoen   \n",
       "2    2023-03-19Z  2022-23 Eredivisie, Regulier seizoen   \n",
       "3    2023-03-19Z  2022-23 Eredivisie, Regulier seizoen   \n",
       "4    2023-03-18Z  2022-23 Eredivisie, Regulier seizoen   \n",
       "..           ...                                   ...   \n",
       "176  2022-08-07Z  2022-23 Eredivisie, Regulier seizoen   \n",
       "177  2022-08-06Z  2022-23 Eredivisie, Regulier seizoen   \n",
       "178  2022-08-06Z  2022-23 Eredivisie, Regulier seizoen   \n",
       "179  2022-08-06Z  2022-23 Eredivisie, Regulier seizoen   \n",
       "180  2022-08-05Z  2022-23 Eredivisie, Regulier seizoen   \n",
       "\n",
       "                                         article_title  \\\n",
       "0    AZ kan Europese glorie geen gevolg geven in En...   \n",
       "1    PSV loopt in strijd om plek 2 averij op bij Vi...   \n",
       "2    Geertruida kopt Feyenoord naar eerste overwinn...   \n",
       "3    sc Heerenveen wint onrustige Derby van het Noo...   \n",
       "4    N.E.C. heeft play-offs in vizier na spektakels...   \n",
       "..                                                 ...   \n",
       "176  Volendam knokt zich bij Eredivisie-rentree naa...   \n",
       "177  Succesvolle terugkeer Dost niet voldoende voor...   \n",
       "178  Excelsior countert naar overwinning in Leeuwar...   \n",
       "179  Wissels schieten Ajax in tweede helft naar ove...   \n",
       "180  sc Heerenveen en Sparta Rotterdam delen punten...   \n",
       "\n",
       "                                               article  \n",
       "0    AZ heeft het prachtige succes in de Conference...  \n",
       "1    PSV heeft dure punten verspeeld in de strijd o...  \n",
       "2    Feyenoord heeft een spectaculaire editie van D...  \n",
       "3    sc Heerenveen heeft met 0-2 gewonnen van FC Gr...  \n",
       "4    Na een uiterst vermakelijke wedstrijd mag N.E....  \n",
       "..                                                 ...  \n",
       "176  FC Volendam heeft de terugkeer in de Eredivisi...  \n",
       "177  Het debuut van Henk Fraser als trainer van FC ...  \n",
       "178  Excelsior is het eerste Eredivisieseizoen sind...  \n",
       "179  Ajax heeft de eerste competitiewedstrijd van h...  \n",
       "180  De eerste Eredivisie-wedstrijd van het nieuwe ...  \n",
       "\n",
       "[178 rows x 13 columns]"
      ]
     },
     "execution_count": 26,
     "metadata": {},
     "output_type": "execute_result"
    }
   ],
   "source": [
    "df_eredivisie = pd.read_csv('./articles_ereD_notna.csv', sep=\";\")\n",
    "df_counted = df_eredivisie['cup'].value_counts()\n",
    "df_unqiue = df_counted[df_counted>10]\n",
    "print(df_unqiue.index.to_list())"
   ]
  },
  {
   "cell_type": "code",
   "execution_count": 48,
   "metadata": {},
   "outputs": [
    {
     "data": {
      "application/vnd.plotly.v1+json": {
       "config": {
        "plotlyServerURL": "https://plot.ly"
       },
       "data": [
        {
         "alignmentgroup": "True",
         "bingroup": "x",
         "histfunc": "sum",
         "hovertemplate": "x=%{x}<br>sum of y=%{y}<extra></extra>",
         "legendgroup": "",
         "marker": {
          "color": "#636efa",
          "pattern": {
           "shape": ""
          }
         },
         "name": "",
         "nbinsx": 500,
         "offsetgroup": "",
         "orientation": "v",
         "showlegend": false,
         "type": "histogram",
         "x": [
          250,
          208,
          268,
          360,
          314,
          313,
          202,
          399,
          232,
          181,
          162,
          410,
          155,
          359,
          277,
          216,
          214,
          301,
          192,
          403,
          279,
          234,
          363,
          215,
          218,
          383,
          256,
          217,
          276,
          209,
          292,
          307,
          222,
          184,
          309,
          392,
          195,
          220,
          376,
          316,
          411,
          400,
          243,
          346,
          356,
          351,
          237,
          358,
          245,
          469,
          350,
          308,
          343,
          204,
          163,
          436,
          439,
          188,
          380,
          322,
          269,
          213,
          173,
          374,
          424,
          275,
          290,
          337,
          260,
          270,
          336,
          420,
          345,
          241,
          329,
          421,
          369,
          341,
          397,
          182,
          221,
          253,
          364,
          191,
          284,
          273,
          405,
          319,
          126,
          289,
          254,
          306,
          291,
          141,
          299,
          231,
          224,
          212,
          371,
          148,
          180,
          311,
          437,
          123,
          310,
          398,
          294,
          440,
          288,
          201,
          382,
          317,
          302,
          200,
          300,
          387,
          407,
          206,
          305,
          378,
          297,
          563,
          443,
          95,
          334,
          340,
          227,
          130,
          248,
          388,
          463,
          669,
          133,
          136,
          178,
          526,
          361,
          278,
          261,
          531,
          318,
          342,
          326,
          272,
          265,
          430,
          355,
          296,
          333,
          438,
          236,
          332,
          282,
          447,
          370,
          330,
          344,
          251,
          219,
          262,
          434,
          315,
          389,
          320,
          293,
          555,
          327,
          139,
          174,
          445,
          368,
          446,
          418,
          323,
          197,
          229,
          470,
          160,
          417,
          110,
          118,
          304,
          432,
          185,
          154,
          362,
          274,
          524,
          534,
          137,
          427,
          168,
          149,
          263,
          108,
          572,
          321,
          255,
          106,
          484,
          138,
          357,
          158,
          515,
          715,
          303,
          210,
          165,
          264,
          353,
          124,
          459,
          271,
          83,
          259,
          338,
          134,
          226,
          460,
          280,
          238,
          466,
          435,
          233,
          367,
          228,
          257,
          511,
          283,
          152,
          105,
          488,
          176,
          223,
          175,
          258,
          325,
          266,
          199,
          455,
          553,
          498,
          207,
          413,
          709,
          735,
          396,
          324,
          489,
          570,
          593,
          170,
          390,
          457,
          560,
          372,
          151,
          485,
          239,
          550,
          246,
          285,
          513,
          119,
          452,
          384,
          402,
          114,
          298,
          354,
          517,
          312,
          187,
          645,
          366,
          406,
          415,
          331,
          287,
          385,
          172,
          461,
          487,
          746,
          73,
          698,
          416,
          556,
          476,
          626,
          373,
          564,
          225,
          475,
          247,
          629,
          562,
          817,
          230,
          505,
          598,
          142,
          425,
          532,
          281,
          521,
          267,
          731,
          462,
          1088,
          431,
          377,
          249,
          506,
          547,
          408,
          609,
          480,
          429,
          352,
          627,
          135,
          375,
          186,
          103
         ],
         "xaxis": "x",
         "y": [
          8,
          7,
          7,
          6,
          6,
          6,
          5,
          5,
          5,
          5,
          5,
          4,
          4,
          4,
          4,
          4,
          4,
          4,
          4,
          4,
          4,
          4,
          4,
          4,
          4,
          4,
          4,
          4,
          3,
          3,
          3,
          3,
          3,
          3,
          3,
          3,
          3,
          3,
          3,
          3,
          3,
          3,
          3,
          3,
          3,
          3,
          3,
          3,
          3,
          3,
          3,
          3,
          3,
          3,
          3,
          3,
          3,
          3,
          3,
          3,
          3,
          3,
          3,
          3,
          3,
          3,
          3,
          3,
          3,
          3,
          3,
          3,
          3,
          3,
          3,
          3,
          3,
          3,
          3,
          3,
          3,
          3,
          3,
          3,
          2,
          2,
          2,
          2,
          2,
          2,
          2,
          2,
          2,
          2,
          2,
          2,
          2,
          2,
          2,
          2,
          2,
          2,
          2,
          2,
          2,
          2,
          2,
          2,
          2,
          2,
          2,
          2,
          2,
          2,
          2,
          2,
          2,
          2,
          2,
          2,
          2,
          2,
          2,
          2,
          2,
          2,
          2,
          2,
          2,
          2,
          2,
          2,
          2,
          2,
          2,
          2,
          2,
          2,
          2,
          2,
          2,
          2,
          2,
          2,
          2,
          2,
          2,
          2,
          2,
          2,
          2,
          2,
          2,
          2,
          2,
          2,
          2,
          2,
          2,
          2,
          2,
          2,
          2,
          2,
          2,
          2,
          2,
          2,
          2,
          2,
          2,
          2,
          2,
          2,
          2,
          2,
          2,
          2,
          2,
          1,
          1,
          1,
          1,
          1,
          1,
          1,
          1,
          1,
          1,
          1,
          1,
          1,
          1,
          1,
          1,
          1,
          1,
          1,
          1,
          1,
          1,
          1,
          1,
          1,
          1,
          1,
          1,
          1,
          1,
          1,
          1,
          1,
          1,
          1,
          1,
          1,
          1,
          1,
          1,
          1,
          1,
          1,
          1,
          1,
          1,
          1,
          1,
          1,
          1,
          1,
          1,
          1,
          1,
          1,
          1,
          1,
          1,
          1,
          1,
          1,
          1,
          1,
          1,
          1,
          1,
          1,
          1,
          1,
          1,
          1,
          1,
          1,
          1,
          1,
          1,
          1,
          1,
          1,
          1,
          1,
          1,
          1,
          1,
          1,
          1,
          1,
          1,
          1,
          1,
          1,
          1,
          1,
          1,
          1,
          1,
          1,
          1,
          1,
          1,
          1,
          1,
          1,
          1,
          1,
          1,
          1,
          1,
          1,
          1,
          1,
          1,
          1,
          1,
          1,
          1,
          1,
          1,
          1,
          1,
          1,
          1,
          1,
          1,
          1,
          1,
          1,
          1,
          1,
          1,
          1,
          1,
          1,
          1,
          1,
          1,
          1,
          1,
          1,
          1,
          1,
          1,
          1,
          1,
          1,
          1
         ],
         "yaxis": "y"
        }
       ],
       "layout": {
        "barmode": "relative",
        "font": {
         "color": "#FFFFFF"
        },
        "legend": {
         "tracegroupgap": 0
        },
        "margin": {
         "t": 60
        },
        "paper_bgcolor": "#100c44",
        "plot_bgcolor": "#100c44",
        "template": {
         "data": {
          "bar": [
           {
            "error_x": {
             "color": "#2a3f5f"
            },
            "error_y": {
             "color": "#2a3f5f"
            },
            "marker": {
             "line": {
              "color": "#E5ECF6",
              "width": 0.5
             },
             "pattern": {
              "fillmode": "overlay",
              "size": 10,
              "solidity": 0.2
             }
            },
            "type": "bar"
           }
          ],
          "barpolar": [
           {
            "marker": {
             "line": {
              "color": "#E5ECF6",
              "width": 0.5
             },
             "pattern": {
              "fillmode": "overlay",
              "size": 10,
              "solidity": 0.2
             }
            },
            "type": "barpolar"
           }
          ],
          "carpet": [
           {
            "aaxis": {
             "endlinecolor": "#2a3f5f",
             "gridcolor": "white",
             "linecolor": "white",
             "minorgridcolor": "white",
             "startlinecolor": "#2a3f5f"
            },
            "baxis": {
             "endlinecolor": "#2a3f5f",
             "gridcolor": "white",
             "linecolor": "white",
             "minorgridcolor": "white",
             "startlinecolor": "#2a3f5f"
            },
            "type": "carpet"
           }
          ],
          "choropleth": [
           {
            "colorbar": {
             "outlinewidth": 0,
             "ticks": ""
            },
            "type": "choropleth"
           }
          ],
          "contour": [
           {
            "colorbar": {
             "outlinewidth": 0,
             "ticks": ""
            },
            "colorscale": [
             [
              0,
              "#0d0887"
             ],
             [
              0.1111111111111111,
              "#46039f"
             ],
             [
              0.2222222222222222,
              "#7201a8"
             ],
             [
              0.3333333333333333,
              "#9c179e"
             ],
             [
              0.4444444444444444,
              "#bd3786"
             ],
             [
              0.5555555555555556,
              "#d8576b"
             ],
             [
              0.6666666666666666,
              "#ed7953"
             ],
             [
              0.7777777777777778,
              "#fb9f3a"
             ],
             [
              0.8888888888888888,
              "#fdca26"
             ],
             [
              1,
              "#f0f921"
             ]
            ],
            "type": "contour"
           }
          ],
          "contourcarpet": [
           {
            "colorbar": {
             "outlinewidth": 0,
             "ticks": ""
            },
            "type": "contourcarpet"
           }
          ],
          "heatmap": [
           {
            "colorbar": {
             "outlinewidth": 0,
             "ticks": ""
            },
            "colorscale": [
             [
              0,
              "#0d0887"
             ],
             [
              0.1111111111111111,
              "#46039f"
             ],
             [
              0.2222222222222222,
              "#7201a8"
             ],
             [
              0.3333333333333333,
              "#9c179e"
             ],
             [
              0.4444444444444444,
              "#bd3786"
             ],
             [
              0.5555555555555556,
              "#d8576b"
             ],
             [
              0.6666666666666666,
              "#ed7953"
             ],
             [
              0.7777777777777778,
              "#fb9f3a"
             ],
             [
              0.8888888888888888,
              "#fdca26"
             ],
             [
              1,
              "#f0f921"
             ]
            ],
            "type": "heatmap"
           }
          ],
          "heatmapgl": [
           {
            "colorbar": {
             "outlinewidth": 0,
             "ticks": ""
            },
            "colorscale": [
             [
              0,
              "#0d0887"
             ],
             [
              0.1111111111111111,
              "#46039f"
             ],
             [
              0.2222222222222222,
              "#7201a8"
             ],
             [
              0.3333333333333333,
              "#9c179e"
             ],
             [
              0.4444444444444444,
              "#bd3786"
             ],
             [
              0.5555555555555556,
              "#d8576b"
             ],
             [
              0.6666666666666666,
              "#ed7953"
             ],
             [
              0.7777777777777778,
              "#fb9f3a"
             ],
             [
              0.8888888888888888,
              "#fdca26"
             ],
             [
              1,
              "#f0f921"
             ]
            ],
            "type": "heatmapgl"
           }
          ],
          "histogram": [
           {
            "marker": {
             "pattern": {
              "fillmode": "overlay",
              "size": 10,
              "solidity": 0.2
             }
            },
            "type": "histogram"
           }
          ],
          "histogram2d": [
           {
            "colorbar": {
             "outlinewidth": 0,
             "ticks": ""
            },
            "colorscale": [
             [
              0,
              "#0d0887"
             ],
             [
              0.1111111111111111,
              "#46039f"
             ],
             [
              0.2222222222222222,
              "#7201a8"
             ],
             [
              0.3333333333333333,
              "#9c179e"
             ],
             [
              0.4444444444444444,
              "#bd3786"
             ],
             [
              0.5555555555555556,
              "#d8576b"
             ],
             [
              0.6666666666666666,
              "#ed7953"
             ],
             [
              0.7777777777777778,
              "#fb9f3a"
             ],
             [
              0.8888888888888888,
              "#fdca26"
             ],
             [
              1,
              "#f0f921"
             ]
            ],
            "type": "histogram2d"
           }
          ],
          "histogram2dcontour": [
           {
            "colorbar": {
             "outlinewidth": 0,
             "ticks": ""
            },
            "colorscale": [
             [
              0,
              "#0d0887"
             ],
             [
              0.1111111111111111,
              "#46039f"
             ],
             [
              0.2222222222222222,
              "#7201a8"
             ],
             [
              0.3333333333333333,
              "#9c179e"
             ],
             [
              0.4444444444444444,
              "#bd3786"
             ],
             [
              0.5555555555555556,
              "#d8576b"
             ],
             [
              0.6666666666666666,
              "#ed7953"
             ],
             [
              0.7777777777777778,
              "#fb9f3a"
             ],
             [
              0.8888888888888888,
              "#fdca26"
             ],
             [
              1,
              "#f0f921"
             ]
            ],
            "type": "histogram2dcontour"
           }
          ],
          "mesh3d": [
           {
            "colorbar": {
             "outlinewidth": 0,
             "ticks": ""
            },
            "type": "mesh3d"
           }
          ],
          "parcoords": [
           {
            "line": {
             "colorbar": {
              "outlinewidth": 0,
              "ticks": ""
             }
            },
            "type": "parcoords"
           }
          ],
          "pie": [
           {
            "automargin": true,
            "type": "pie"
           }
          ],
          "scatter": [
           {
            "fillpattern": {
             "fillmode": "overlay",
             "size": 10,
             "solidity": 0.2
            },
            "type": "scatter"
           }
          ],
          "scatter3d": [
           {
            "line": {
             "colorbar": {
              "outlinewidth": 0,
              "ticks": ""
             }
            },
            "marker": {
             "colorbar": {
              "outlinewidth": 0,
              "ticks": ""
             }
            },
            "type": "scatter3d"
           }
          ],
          "scattercarpet": [
           {
            "marker": {
             "colorbar": {
              "outlinewidth": 0,
              "ticks": ""
             }
            },
            "type": "scattercarpet"
           }
          ],
          "scattergeo": [
           {
            "marker": {
             "colorbar": {
              "outlinewidth": 0,
              "ticks": ""
             }
            },
            "type": "scattergeo"
           }
          ],
          "scattergl": [
           {
            "marker": {
             "colorbar": {
              "outlinewidth": 0,
              "ticks": ""
             }
            },
            "type": "scattergl"
           }
          ],
          "scattermapbox": [
           {
            "marker": {
             "colorbar": {
              "outlinewidth": 0,
              "ticks": ""
             }
            },
            "type": "scattermapbox"
           }
          ],
          "scatterpolar": [
           {
            "marker": {
             "colorbar": {
              "outlinewidth": 0,
              "ticks": ""
             }
            },
            "type": "scatterpolar"
           }
          ],
          "scatterpolargl": [
           {
            "marker": {
             "colorbar": {
              "outlinewidth": 0,
              "ticks": ""
             }
            },
            "type": "scatterpolargl"
           }
          ],
          "scatterternary": [
           {
            "marker": {
             "colorbar": {
              "outlinewidth": 0,
              "ticks": ""
             }
            },
            "type": "scatterternary"
           }
          ],
          "surface": [
           {
            "colorbar": {
             "outlinewidth": 0,
             "ticks": ""
            },
            "colorscale": [
             [
              0,
              "#0d0887"
             ],
             [
              0.1111111111111111,
              "#46039f"
             ],
             [
              0.2222222222222222,
              "#7201a8"
             ],
             [
              0.3333333333333333,
              "#9c179e"
             ],
             [
              0.4444444444444444,
              "#bd3786"
             ],
             [
              0.5555555555555556,
              "#d8576b"
             ],
             [
              0.6666666666666666,
              "#ed7953"
             ],
             [
              0.7777777777777778,
              "#fb9f3a"
             ],
             [
              0.8888888888888888,
              "#fdca26"
             ],
             [
              1,
              "#f0f921"
             ]
            ],
            "type": "surface"
           }
          ],
          "table": [
           {
            "cells": {
             "fill": {
              "color": "#EBF0F8"
             },
             "line": {
              "color": "white"
             }
            },
            "header": {
             "fill": {
              "color": "#C8D4E3"
             },
             "line": {
              "color": "white"
             }
            },
            "type": "table"
           }
          ]
         },
         "layout": {
          "annotationdefaults": {
           "arrowcolor": "#2a3f5f",
           "arrowhead": 0,
           "arrowwidth": 1
          },
          "autotypenumbers": "strict",
          "coloraxis": {
           "colorbar": {
            "outlinewidth": 0,
            "ticks": ""
           }
          },
          "colorscale": {
           "diverging": [
            [
             0,
             "#8e0152"
            ],
            [
             0.1,
             "#c51b7d"
            ],
            [
             0.2,
             "#de77ae"
            ],
            [
             0.3,
             "#f1b6da"
            ],
            [
             0.4,
             "#fde0ef"
            ],
            [
             0.5,
             "#f7f7f7"
            ],
            [
             0.6,
             "#e6f5d0"
            ],
            [
             0.7,
             "#b8e186"
            ],
            [
             0.8,
             "#7fbc41"
            ],
            [
             0.9,
             "#4d9221"
            ],
            [
             1,
             "#276419"
            ]
           ],
           "sequential": [
            [
             0,
             "#0d0887"
            ],
            [
             0.1111111111111111,
             "#46039f"
            ],
            [
             0.2222222222222222,
             "#7201a8"
            ],
            [
             0.3333333333333333,
             "#9c179e"
            ],
            [
             0.4444444444444444,
             "#bd3786"
            ],
            [
             0.5555555555555556,
             "#d8576b"
            ],
            [
             0.6666666666666666,
             "#ed7953"
            ],
            [
             0.7777777777777778,
             "#fb9f3a"
            ],
            [
             0.8888888888888888,
             "#fdca26"
            ],
            [
             1,
             "#f0f921"
            ]
           ],
           "sequentialminus": [
            [
             0,
             "#0d0887"
            ],
            [
             0.1111111111111111,
             "#46039f"
            ],
            [
             0.2222222222222222,
             "#7201a8"
            ],
            [
             0.3333333333333333,
             "#9c179e"
            ],
            [
             0.4444444444444444,
             "#bd3786"
            ],
            [
             0.5555555555555556,
             "#d8576b"
            ],
            [
             0.6666666666666666,
             "#ed7953"
            ],
            [
             0.7777777777777778,
             "#fb9f3a"
            ],
            [
             0.8888888888888888,
             "#fdca26"
            ],
            [
             1,
             "#f0f921"
            ]
           ]
          },
          "colorway": [
           "#636efa",
           "#EF553B",
           "#00cc96",
           "#ab63fa",
           "#FFA15A",
           "#19d3f3",
           "#FF6692",
           "#B6E880",
           "#FF97FF",
           "#FECB52"
          ],
          "font": {
           "color": "#2a3f5f"
          },
          "geo": {
           "bgcolor": "white",
           "lakecolor": "white",
           "landcolor": "#E5ECF6",
           "showlakes": true,
           "showland": true,
           "subunitcolor": "white"
          },
          "hoverlabel": {
           "align": "left"
          },
          "hovermode": "closest",
          "mapbox": {
           "style": "light"
          },
          "paper_bgcolor": "white",
          "plot_bgcolor": "#E5ECF6",
          "polar": {
           "angularaxis": {
            "gridcolor": "white",
            "linecolor": "white",
            "ticks": ""
           },
           "bgcolor": "#E5ECF6",
           "radialaxis": {
            "gridcolor": "white",
            "linecolor": "white",
            "ticks": ""
           }
          },
          "scene": {
           "xaxis": {
            "backgroundcolor": "#E5ECF6",
            "gridcolor": "white",
            "gridwidth": 2,
            "linecolor": "white",
            "showbackground": true,
            "ticks": "",
            "zerolinecolor": "white"
           },
           "yaxis": {
            "backgroundcolor": "#E5ECF6",
            "gridcolor": "white",
            "gridwidth": 2,
            "linecolor": "white",
            "showbackground": true,
            "ticks": "",
            "zerolinecolor": "white"
           },
           "zaxis": {
            "backgroundcolor": "#E5ECF6",
            "gridcolor": "white",
            "gridwidth": 2,
            "linecolor": "white",
            "showbackground": true,
            "ticks": "",
            "zerolinecolor": "white"
           }
          },
          "shapedefaults": {
           "line": {
            "color": "#2a3f5f"
           }
          },
          "ternary": {
           "aaxis": {
            "gridcolor": "white",
            "linecolor": "white",
            "ticks": ""
           },
           "baxis": {
            "gridcolor": "white",
            "linecolor": "white",
            "ticks": ""
           },
           "bgcolor": "#E5ECF6",
           "caxis": {
            "gridcolor": "white",
            "linecolor": "white",
            "ticks": ""
           }
          },
          "title": {
           "x": 0.05
          },
          "xaxis": {
           "automargin": true,
           "gridcolor": "white",
           "linecolor": "white",
           "ticks": "",
           "title": {
            "standoff": 15
           },
           "zerolinecolor": "white",
           "zerolinewidth": 2
          },
          "yaxis": {
           "automargin": true,
           "gridcolor": "white",
           "linecolor": "white",
           "ticks": "",
           "title": {
            "standoff": 15
           },
           "zerolinecolor": "white",
           "zerolinewidth": 2
          }
         }
        },
        "xaxis": {
         "anchor": "y",
         "domain": [
          0,
          1
         ],
         "title": {
          "text": "x"
         }
        },
        "yaxis": {
         "anchor": "x",
         "domain": [
          0,
          1
         ],
         "title": {
          "text": "sum of y"
         }
        }
       }
      }
     },
     "metadata": {},
     "output_type": "display_data"
    }
   ],
   "source": [
    "import plotly.express as px\n",
    "df_eredivisie[\"word_count\"] = df_eredivisie[\"article\"].apply(lambda x: len(x.split()))\n",
    "fig = px.histogram(\n",
    "    df_eredivisie, \n",
    "    y=df_eredivisie.word_count.value_counts().values, \n",
    "    x=df_eredivisie.word_count.value_counts().index,\n",
    "    nbins=500,\n",
    "    title=\"Top {} meest voorkomende woorden\".format(10)\n",
    "    ).update_layout(plot_bgcolor='#100c44',paper_bgcolor='#100c44', font_color='#FFFFFF')\n",
    "fig.show()"
   ]
  },
  {
   "cell_type": "code",
   "execution_count": 13,
   "metadata": {},
   "outputs": [],
   "source": [
    "df_ereD_notna = df_eredivisie[df_eredivisie['article'].notna()]\n",
    "df_ereD_notna.to_csv(\"articles_overig_notna.csv\", sep=\";\")"
   ]
  },
  {
   "cell_type": "code",
   "execution_count": 18,
   "metadata": {},
   "outputs": [
    {
     "data": {
      "text/plain": [
       "\\n                    2020-21 Keuken Kampioen Divisie\\n                                                            124\n",
       "\\n                    2021-22 Keuken Kampioen Divisie\\n                                                             71\n",
       "\\n                    2020-21 German Bundesliga\\n                                                                   67\n",
       "\\n                    2021 Afrika Cup, Groepsfase\\n                                                                 23\n",
       "\\n                    2020 UEFA Europees Kampioenschap, Groepsfase\\n                                                22\n",
       "                                                                                                                  ... \n",
       "\\n                    2021 KNVB Beker Vrouwen, Kwartfinales\\n                                                        1\n",
       "\\n                    2020-21 UEFA Champions League, Halve Finales\\n                                                 1\n",
       "\\n                    2022 FIFA WK Kwalificaties - CAF, Derde ronde\\n                                                1\n",
       "\\n                    2020-21 Vrouwen Eredivisie, Playoffs (Championship + Relegation Rounds)\\n                      1\n",
       "\\n                    2020 German Super Cup\\n                                                                        1\n",
       "Name: cup, Length: 116, dtype: int64"
      ]
     },
     "execution_count": 18,
     "metadata": {},
     "output_type": "execute_result"
    }
   ],
   "source": [
    "df_ereD_notna.cup.value_counts()"
   ]
  },
  {
   "cell_type": "code",
   "execution_count": 14,
   "metadata": {},
   "outputs": [
    {
     "name": "stdout",
     "output_type": "stream",
     "text": [
      "<class 'pandas.core.frame.DataFrame'>\n",
      "Int64Index: 679 entries, 0 to 805\n",
      "Data columns (total 12 columns):\n",
      " #   Column         Non-Null Count  Dtype \n",
      "---  ------         --------------  ----- \n",
      " 0   Unnamed: 0     679 non-null    int64 \n",
      " 1   espn_id        679 non-null    int64 \n",
      " 2   home_team      679 non-null    object\n",
      " 3   away_team      679 non-null    object\n",
      " 4   home_abbrev    679 non-null    object\n",
      " 5   away_abbrev    679 non-null    object\n",
      " 6   score_home     679 non-null    int64 \n",
      " 7   score_away     679 non-null    int64 \n",
      " 8   date           679 non-null    object\n",
      " 9   cup            679 non-null    object\n",
      " 10  article_title  679 non-null    object\n",
      " 11  article        679 non-null    object\n",
      "dtypes: int64(4), object(8)\n",
      "memory usage: 69.0+ KB\n"
     ]
    }
   ],
   "source": [
    "df_ereD_notna.info()"
   ]
  },
  {
   "cell_type": "code",
   "execution_count": 15,
   "metadata": {},
   "outputs": [
    {
     "ename": "NameError",
     "evalue": "name 'df' is not defined",
     "output_type": "error",
     "traceback": [
      "\u001b[0;31m---------------------------------------------------------------------------\u001b[0m",
      "\u001b[0;31mNameError\u001b[0m                                 Traceback (most recent call last)",
      "\u001b[0;32m/var/folders/6b/5f93vl950pv7k7zsttbkzgfh0000gn/T/ipykernel_88469/2703715864.py\u001b[0m in \u001b[0;36m<module>\u001b[0;34m\u001b[0m\n\u001b[1;32m      1\u001b[0m \u001b[0;31m#pd.set_option(\"max_colwidth\", None)\u001b[0m\u001b[0;34m\u001b[0m\u001b[0;34m\u001b[0m\u001b[0m\n\u001b[0;32m----> 2\u001b[0;31m \u001b[0mdf\u001b[0m\u001b[0;34m.\u001b[0m\u001b[0msort_values\u001b[0m\u001b[0;34m(\u001b[0m\u001b[0mby\u001b[0m\u001b[0;34m=\u001b[0m\u001b[0;34m'date'\u001b[0m\u001b[0;34m,\u001b[0m \u001b[0mascending\u001b[0m \u001b[0;34m=\u001b[0m \u001b[0;32mFalse\u001b[0m\u001b[0;34m,\u001b[0m \u001b[0minplace\u001b[0m \u001b[0;34m=\u001b[0m \u001b[0;32mTrue\u001b[0m\u001b[0;34m)\u001b[0m\u001b[0;34m\u001b[0m\u001b[0;34m\u001b[0m\u001b[0m\n\u001b[0m\u001b[1;32m      3\u001b[0m \u001b[0mdisplay\u001b[0m\u001b[0;34m(\u001b[0m\u001b[0mdf\u001b[0m\u001b[0;34m[\u001b[0m\u001b[0;34m:\u001b[0m\u001b[0;36m20\u001b[0m\u001b[0;34m]\u001b[0m\u001b[0;34m)\u001b[0m\u001b[0;34m\u001b[0m\u001b[0;34m\u001b[0m\u001b[0m\n",
      "\u001b[0;31mNameError\u001b[0m: name 'df' is not defined"
     ]
    }
   ],
   "source": [
    "#pd.set_option(\"max_colwidth\", None)\n",
    "df.sort_values(by='date', ascending = False, inplace = True)\n",
    "display(df[:20])"
   ]
  },
  {
   "attachments": {},
   "cell_type": "markdown",
   "metadata": {},
   "source": [
    "# Datetime conversion, to OPTA format"
   ]
  },
  {
   "cell_type": "code",
   "execution_count": null,
   "metadata": {},
   "outputs": [
    {
     "data": {
      "text/plain": [
       "'2023-03-08Z'"
      ]
     },
     "execution_count": 5,
     "metadata": {},
     "output_type": "execute_result"
    }
   ],
   "source": [
    "import datetime as dt\n",
    "date = dt.datetime.strptime(str(\"8 Mar 2023\"), \"%d %b %Y\").date()\n",
    "date = dt.datetime.strftime(date, \"%Y-%m-%dZ\")\n",
    "date"
   ]
  }
 ],
 "metadata": {
  "kernelspec": {
   "display_name": "Python 3",
   "language": "python",
   "name": "python3"
  },
  "language_info": {
   "codemirror_mode": {
    "name": "ipython",
    "version": 3
   },
   "file_extension": ".py",
   "mimetype": "text/x-python",
   "name": "python",
   "nbconvert_exporter": "python",
   "pygments_lexer": "ipython3",
   "version": "3.9.10"
  },
  "orig_nbformat": 4
 },
 "nbformat": 4,
 "nbformat_minor": 2
}
