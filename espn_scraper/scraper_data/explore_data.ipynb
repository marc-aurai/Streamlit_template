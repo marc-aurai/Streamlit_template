{
 "cells": [
  {
   "cell_type": "code",
   "execution_count": 11,
   "metadata": {},
   "outputs": [],
   "source": [
    "import pandas as pd"
   ]
  },
  {
   "cell_type": "code",
   "execution_count": 12,
   "metadata": {},
   "outputs": [],
   "source": [
    "df_eredivisie = pd.read_csv('./articles_overige_league.csv', sep=\";\")"
   ]
  },
  {
   "cell_type": "code",
   "execution_count": 13,
   "metadata": {},
   "outputs": [],
   "source": [
    "df_ereD_notna = df_eredivisie[df_eredivisie['article'].notna()]\n",
    "df_ereD_notna.to_csv(\"articles_overig_notna.csv\", sep=\";\")"
   ]
  },
  {
   "cell_type": "code",
   "execution_count": 18,
   "metadata": {},
   "outputs": [
    {
     "data": {
      "text/plain": [
       "\\n                    2020-21 Keuken Kampioen Divisie\\n                                                            124\n",
       "\\n                    2021-22 Keuken Kampioen Divisie\\n                                                             71\n",
       "\\n                    2020-21 German Bundesliga\\n                                                                   67\n",
       "\\n                    2021 Afrika Cup, Groepsfase\\n                                                                 23\n",
       "\\n                    2020 UEFA Europees Kampioenschap, Groepsfase\\n                                                22\n",
       "                                                                                                                  ... \n",
       "\\n                    2021 KNVB Beker Vrouwen, Kwartfinales\\n                                                        1\n",
       "\\n                    2020-21 UEFA Champions League, Halve Finales\\n                                                 1\n",
       "\\n                    2022 FIFA WK Kwalificaties - CAF, Derde ronde\\n                                                1\n",
       "\\n                    2020-21 Vrouwen Eredivisie, Playoffs (Championship + Relegation Rounds)\\n                      1\n",
       "\\n                    2020 German Super Cup\\n                                                                        1\n",
       "Name: cup, Length: 116, dtype: int64"
      ]
     },
     "execution_count": 18,
     "metadata": {},
     "output_type": "execute_result"
    }
   ],
   "source": [
    "df_ereD_notna.cup.value_counts()"
   ]
  },
  {
   "cell_type": "code",
   "execution_count": 14,
   "metadata": {},
   "outputs": [
    {
     "name": "stdout",
     "output_type": "stream",
     "text": [
      "<class 'pandas.core.frame.DataFrame'>\n",
      "Int64Index: 679 entries, 0 to 805\n",
      "Data columns (total 12 columns):\n",
      " #   Column         Non-Null Count  Dtype \n",
      "---  ------         --------------  ----- \n",
      " 0   Unnamed: 0     679 non-null    int64 \n",
      " 1   espn_id        679 non-null    int64 \n",
      " 2   home_team      679 non-null    object\n",
      " 3   away_team      679 non-null    object\n",
      " 4   home_abbrev    679 non-null    object\n",
      " 5   away_abbrev    679 non-null    object\n",
      " 6   score_home     679 non-null    int64 \n",
      " 7   score_away     679 non-null    int64 \n",
      " 8   date           679 non-null    object\n",
      " 9   cup            679 non-null    object\n",
      " 10  article_title  679 non-null    object\n",
      " 11  article        679 non-null    object\n",
      "dtypes: int64(4), object(8)\n",
      "memory usage: 69.0+ KB\n"
     ]
    }
   ],
   "source": [
    "df_ereD_notna.info()"
   ]
  },
  {
   "cell_type": "code",
   "execution_count": 15,
   "metadata": {},
   "outputs": [
    {
     "ename": "NameError",
     "evalue": "name 'df' is not defined",
     "output_type": "error",
     "traceback": [
      "\u001b[0;31m---------------------------------------------------------------------------\u001b[0m",
      "\u001b[0;31mNameError\u001b[0m                                 Traceback (most recent call last)",
      "\u001b[0;32m/var/folders/6b/5f93vl950pv7k7zsttbkzgfh0000gn/T/ipykernel_88469/2703715864.py\u001b[0m in \u001b[0;36m<module>\u001b[0;34m\u001b[0m\n\u001b[1;32m      1\u001b[0m \u001b[0;31m#pd.set_option(\"max_colwidth\", None)\u001b[0m\u001b[0;34m\u001b[0m\u001b[0;34m\u001b[0m\u001b[0m\n\u001b[0;32m----> 2\u001b[0;31m \u001b[0mdf\u001b[0m\u001b[0;34m.\u001b[0m\u001b[0msort_values\u001b[0m\u001b[0;34m(\u001b[0m\u001b[0mby\u001b[0m\u001b[0;34m=\u001b[0m\u001b[0;34m'date'\u001b[0m\u001b[0;34m,\u001b[0m \u001b[0mascending\u001b[0m \u001b[0;34m=\u001b[0m \u001b[0;32mFalse\u001b[0m\u001b[0;34m,\u001b[0m \u001b[0minplace\u001b[0m \u001b[0;34m=\u001b[0m \u001b[0;32mTrue\u001b[0m\u001b[0;34m)\u001b[0m\u001b[0;34m\u001b[0m\u001b[0;34m\u001b[0m\u001b[0m\n\u001b[0m\u001b[1;32m      3\u001b[0m \u001b[0mdisplay\u001b[0m\u001b[0;34m(\u001b[0m\u001b[0mdf\u001b[0m\u001b[0;34m[\u001b[0m\u001b[0;34m:\u001b[0m\u001b[0;36m20\u001b[0m\u001b[0;34m]\u001b[0m\u001b[0;34m)\u001b[0m\u001b[0;34m\u001b[0m\u001b[0;34m\u001b[0m\u001b[0m\n",
      "\u001b[0;31mNameError\u001b[0m: name 'df' is not defined"
     ]
    }
   ],
   "source": [
    "#pd.set_option(\"max_colwidth\", None)\n",
    "df.sort_values(by='date', ascending = False, inplace = True)\n",
    "display(df[:20])"
   ]
  },
  {
   "attachments": {},
   "cell_type": "markdown",
   "metadata": {},
   "source": [
    "# Datetime conversion, to OPTA format"
   ]
  },
  {
   "cell_type": "code",
   "execution_count": null,
   "metadata": {},
   "outputs": [
    {
     "data": {
      "text/plain": [
       "'2023-03-08Z'"
      ]
     },
     "execution_count": 5,
     "metadata": {},
     "output_type": "execute_result"
    }
   ],
   "source": [
    "import datetime as dt\n",
    "date = dt.datetime.strptime(str(\"8 Mar 2023\"), \"%d %b %Y\").date()\n",
    "date = dt.datetime.strftime(date, \"%Y-%m-%dZ\")\n",
    "date"
   ]
  }
 ],
 "metadata": {
  "kernelspec": {
   "display_name": "Python 3",
   "language": "python",
   "name": "python3"
  },
  "language_info": {
   "codemirror_mode": {
    "name": "ipython",
    "version": 3
   },
   "file_extension": ".py",
   "mimetype": "text/x-python",
   "name": "python",
   "nbconvert_exporter": "python",
   "pygments_lexer": "ipython3",
   "version": "3.9.10"
  },
  "orig_nbformat": 4
 },
 "nbformat": 4,
 "nbformat_minor": 2
}
